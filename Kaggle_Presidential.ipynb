{
 "cells": [
  {
   "cell_type": "code",
   "execution_count": 1,
   "metadata": {
    "collapsed": true
   },
   "outputs": [],
   "source": [
    "import numpy as np\n",
    "c"
   ]
  },
  {
   "cell_type": "code",
   "execution_count": 2,
   "metadata": {
    "collapsed": true
   },
   "outputs": [],
   "source": [
    "data_polls='train2016.csv'\n",
    "submission = 'test2016.csv'"
   ]
  },
  {
   "cell_type": "code",
   "execution_count": 3,
   "metadata": {
    "collapsed": false
   },
   "outputs": [
    {
     "data": {
      "text/html": [
       "<div>\n",
       "<table border=\"1\" class=\"dataframe\">\n",
       "  <thead>\n",
       "    <tr style=\"text-align: right;\">\n",
       "      <th></th>\n",
       "      <th>USER_ID</th>\n",
       "      <th>YOB</th>\n",
       "      <th>Gender</th>\n",
       "      <th>Income</th>\n",
       "      <th>HouseholdStatus</th>\n",
       "      <th>EducationLevel</th>\n",
       "      <th>Party</th>\n",
       "      <th>Q124742</th>\n",
       "      <th>Q124122</th>\n",
       "      <th>Q123464</th>\n",
       "      <th>...</th>\n",
       "      <th>Q100010</th>\n",
       "      <th>Q99716</th>\n",
       "      <th>Q99581</th>\n",
       "      <th>Q99480</th>\n",
       "      <th>Q98869</th>\n",
       "      <th>Q98578</th>\n",
       "      <th>Q98059</th>\n",
       "      <th>Q98078</th>\n",
       "      <th>Q98197</th>\n",
       "      <th>Q96024</th>\n",
       "    </tr>\n",
       "  </thead>\n",
       "  <tbody>\n",
       "    <tr>\n",
       "      <th>0</th>\n",
       "      <td>1</td>\n",
       "      <td>1938.0</td>\n",
       "      <td>Male</td>\n",
       "      <td>NaN</td>\n",
       "      <td>Married (w/kids)</td>\n",
       "      <td>NaN</td>\n",
       "      <td>Democrat</td>\n",
       "      <td>No</td>\n",
       "      <td>NaN</td>\n",
       "      <td>No</td>\n",
       "      <td>...</td>\n",
       "      <td>Yes</td>\n",
       "      <td>No</td>\n",
       "      <td>No</td>\n",
       "      <td>NaN</td>\n",
       "      <td>No</td>\n",
       "      <td>NaN</td>\n",
       "      <td>Only-child</td>\n",
       "      <td>No</td>\n",
       "      <td>No</td>\n",
       "      <td>Yes</td>\n",
       "    </tr>\n",
       "    <tr>\n",
       "      <th>1</th>\n",
       "      <td>4</td>\n",
       "      <td>1970.0</td>\n",
       "      <td>Female</td>\n",
       "      <td>over $150,000</td>\n",
       "      <td>Domestic Partners (w/kids)</td>\n",
       "      <td>Bachelor's Degree</td>\n",
       "      <td>Democrat</td>\n",
       "      <td>NaN</td>\n",
       "      <td>Yes</td>\n",
       "      <td>No</td>\n",
       "      <td>...</td>\n",
       "      <td>NaN</td>\n",
       "      <td>NaN</td>\n",
       "      <td>NaN</td>\n",
       "      <td>No</td>\n",
       "      <td>No</td>\n",
       "      <td>No</td>\n",
       "      <td>Only-child</td>\n",
       "      <td>Yes</td>\n",
       "      <td>No</td>\n",
       "      <td>No</td>\n",
       "    </tr>\n",
       "    <tr>\n",
       "      <th>2</th>\n",
       "      <td>5</td>\n",
       "      <td>1997.0</td>\n",
       "      <td>Male</td>\n",
       "      <td>$75,000 - $100,000</td>\n",
       "      <td>Single (no kids)</td>\n",
       "      <td>High School Diploma</td>\n",
       "      <td>Republican</td>\n",
       "      <td>NaN</td>\n",
       "      <td>Yes</td>\n",
       "      <td>Yes</td>\n",
       "      <td>...</td>\n",
       "      <td>Yes</td>\n",
       "      <td>No</td>\n",
       "      <td>No</td>\n",
       "      <td>No</td>\n",
       "      <td>Yes</td>\n",
       "      <td>No</td>\n",
       "      <td>Yes</td>\n",
       "      <td>No</td>\n",
       "      <td>Yes</td>\n",
       "      <td>No</td>\n",
       "    </tr>\n",
       "    <tr>\n",
       "      <th>3</th>\n",
       "      <td>8</td>\n",
       "      <td>1983.0</td>\n",
       "      <td>Male</td>\n",
       "      <td>$100,001 - $150,000</td>\n",
       "      <td>Married (w/kids)</td>\n",
       "      <td>Bachelor's Degree</td>\n",
       "      <td>Democrat</td>\n",
       "      <td>No</td>\n",
       "      <td>Yes</td>\n",
       "      <td>No</td>\n",
       "      <td>...</td>\n",
       "      <td>No</td>\n",
       "      <td>No</td>\n",
       "      <td>No</td>\n",
       "      <td>Yes</td>\n",
       "      <td>Yes</td>\n",
       "      <td>No</td>\n",
       "      <td>Yes</td>\n",
       "      <td>No</td>\n",
       "      <td>No</td>\n",
       "      <td>Yes</td>\n",
       "    </tr>\n",
       "    <tr>\n",
       "      <th>4</th>\n",
       "      <td>9</td>\n",
       "      <td>1984.0</td>\n",
       "      <td>Female</td>\n",
       "      <td>$50,000 - $74,999</td>\n",
       "      <td>Married (w/kids)</td>\n",
       "      <td>High School Diploma</td>\n",
       "      <td>Republican</td>\n",
       "      <td>No</td>\n",
       "      <td>Yes</td>\n",
       "      <td>No</td>\n",
       "      <td>...</td>\n",
       "      <td>Yes</td>\n",
       "      <td>No</td>\n",
       "      <td>No</td>\n",
       "      <td>Yes</td>\n",
       "      <td>No</td>\n",
       "      <td>No</td>\n",
       "      <td>Yes</td>\n",
       "      <td>No</td>\n",
       "      <td>No</td>\n",
       "      <td>Yes</td>\n",
       "    </tr>\n",
       "  </tbody>\n",
       "</table>\n",
       "<p>5 rows × 108 columns</p>\n",
       "</div>"
      ],
      "text/plain": [
       "   USER_ID     YOB  Gender               Income             HouseholdStatus  \\\n",
       "0        1  1938.0    Male                  NaN            Married (w/kids)   \n",
       "1        4  1970.0  Female        over $150,000  Domestic Partners (w/kids)   \n",
       "2        5  1997.0    Male   $75,000 - $100,000            Single (no kids)   \n",
       "3        8  1983.0    Male  $100,001 - $150,000            Married (w/kids)   \n",
       "4        9  1984.0  Female    $50,000 - $74,999            Married (w/kids)   \n",
       "\n",
       "        EducationLevel       Party Q124742 Q124122 Q123464  ...   Q100010  \\\n",
       "0                  NaN    Democrat      No     NaN      No  ...       Yes   \n",
       "1    Bachelor's Degree    Democrat     NaN     Yes      No  ...       NaN   \n",
       "2  High School Diploma  Republican     NaN     Yes     Yes  ...       Yes   \n",
       "3    Bachelor's Degree    Democrat      No     Yes      No  ...        No   \n",
       "4  High School Diploma  Republican      No     Yes      No  ...       Yes   \n",
       "\n",
       "  Q99716 Q99581 Q99480 Q98869 Q98578      Q98059 Q98078 Q98197 Q96024  \n",
       "0     No     No    NaN     No    NaN  Only-child     No     No    Yes  \n",
       "1    NaN    NaN     No     No     No  Only-child    Yes     No     No  \n",
       "2     No     No     No    Yes     No         Yes     No    Yes     No  \n",
       "3     No     No    Yes    Yes     No         Yes     No     No    Yes  \n",
       "4     No     No    Yes     No     No         Yes     No     No    Yes  \n",
       "\n",
       "[5 rows x 108 columns]"
      ]
     },
     "execution_count": 3,
     "metadata": {},
     "output_type": "execute_result"
    }
   ],
   "source": [
    "DataFrame = pd.read_csv(data_polls)\n",
    "DataFrame_sub = pd.read_csv(submission)\n",
    "DataFrame.head()\n",
    "    "
   ]
  },
  {
   "cell_type": "markdown",
   "metadata": {},
   "source": [
    "# Data Exploration"
   ]
  },
  {
   "cell_type": "code",
   "execution_count": 4,
   "metadata": {
    "collapsed": true
   },
   "outputs": [],
   "source": [
    "%matplotlib inline"
   ]
  },
  {
   "cell_type": "code",
   "execution_count": 5,
   "metadata": {
    "collapsed": true
   },
   "outputs": [],
   "source": [
    "features_train_pd = DataFrame.ix[:,['EducationLevel','Income','Q98917','Q114961','Q115611','Q117193']]"
   ]
  },
  {
   "cell_type": "code",
   "execution_count": 6,
   "metadata": {
    "collapsed": false
   },
   "outputs": [],
   "source": [
    "#features_train_pd = DataFrame.ix[:,[2,3,4,5]+range(7,108)]\n",
    "labels_train_pd = DataFrame.ix[:,6]\n",
    "\n",
    "sub_features_train_pd = DataFrame_sub.ix[:,[2,3,4,5]+range(6,107)]\n",
    "sub_userid = DataFrame_sub.ix[:,[0]]\n",
    "\n"
   ]
  },
  {
   "cell_type": "code",
   "execution_count": 7,
   "metadata": {
    "collapsed": false
   },
   "outputs": [
    {
     "name": "stderr",
     "output_type": "stream",
     "text": [
      "C:\\Users\\User\\Anaconda2\\lib\\site-packages\\numpy\\lib\\arraysetops.py:200: FutureWarning: numpy not_equal will not check object identity in the future. The comparison did not return the same result as suggested by the identity (`is`)) and will change.\n",
      "  flag = np.concatenate(([True], aux[1:] != aux[:-1]))\n"
     ]
    }
   ],
   "source": [
    "from sklearn.preprocessing import LabelEncoder\n",
    "\n",
    "le = LabelEncoder()\n",
    "\n",
    "for i in list(features_train_pd):\n",
    "    try:\n",
    "        features_train_pd[i] = le.fit_transform(features_train_pd[i])\n",
    "    except:\n",
    "        print(\"Could not convert \", i)\n",
    "        \n",
    "        \n"
   ]
  },
  {
   "cell_type": "code",
   "execution_count": 320,
   "metadata": {
    "collapsed": false
   },
   "outputs": [
    {
     "name": "stderr",
     "output_type": "stream",
     "text": [
      "C:\\Users\\unnikrishnan.s\\AppData\\Local\\Continuum\\Anaconda2\\lib\\site-packages\\ipykernel\\__main__.py:7: SettingWithCopyWarning: \n",
      "A value is trying to be set on a copy of a slice from a DataFrame.\n",
      "Try using .loc[row_indexer,col_indexer] = value instead\n",
      "\n",
      "See the caveats in the documentation: http://pandas.pydata.org/pandas-docs/stable/indexing.html#indexing-view-versus-copy\n"
     ]
    }
   ],
   "source": [
    "from sklearn.preprocessing import LabelEncoder\n",
    "\n",
    "le = LabelEncoder()\n",
    "\n",
    "for i in list(sub_features_train_pd):\n",
    "    try:\n",
    "        sub_features_train_pd[i] = le.fit_transform(sub_features_train_pd[i])\n",
    "    except:\n",
    "        print(\"Could not convert \", i)\n",
    "        \n",
    "        \n"
   ]
  },
  {
   "cell_type": "code",
   "execution_count": 321,
   "metadata": {
    "collapsed": false
   },
   "outputs": [],
   "source": [
    "features = features_train_pd.as_matrix()\n",
    "labels = labels_train_pd\n",
    "sub_features = sub_features_train_pd.as_matrix()"
   ]
  },
  {
   "cell_type": "code",
   "execution_count": 322,
   "metadata": {
    "collapsed": false
   },
   "outputs": [],
   "source": [
    "from sklearn.cross_validation import train_test_split\n",
    "\n",
    "features_train,features_test,labels_train,labels_test = train_test_split(features,labels)\n"
   ]
  },
  {
   "cell_type": "code",
   "execution_count": 312,
   "metadata": {
    "collapsed": false
   },
   "outputs": [],
   "source": [
    "from sklearn.ensemble import RandomForestClassifier\n",
    "\n",
    "rfc = RandomForestClassifier()\n",
    "\n",
    "clf = rfc.fit(features_train,labels_train)"
   ]
  },
  {
   "cell_type": "code",
   "execution_count": 313,
   "metadata": {
    "collapsed": false
   },
   "outputs": [
    {
     "data": {
      "text/plain": [
       "0.50646551724137934"
      ]
     },
     "execution_count": 313,
     "metadata": {},
     "output_type": "execute_result"
    }
   ],
   "source": [
    "from sklearn.metrics import accuracy_score\n",
    "pred = clf.predict(features_test)\n",
    "actual = labels_test\n",
    "\n",
    "accuracy_score(actual,pred)\n"
   ]
  },
  {
   "cell_type": "code",
   "execution_count": 288,
   "metadata": {
    "collapsed": false
   },
   "outputs": [],
   "source": [
    "from sklearn.tree import DecisionTreeClassifier\n",
    "\n",
    "rfc = DecisionTreeClassifier()\n",
    "\n",
    "clf = rfc.fit(features_train,labels_train)"
   ]
  },
  {
   "cell_type": "code",
   "execution_count": 323,
   "metadata": {
    "collapsed": false
   },
   "outputs": [],
   "source": [
    "#import pydotplus\n",
    "#from sklearn.tree import export_graphviz\n",
    "#from IPython.display import Image  \n",
    "#dot_data = export_graphviz(clf,out_file = None)\n",
    "#graph = pydotplus.graph_from_dot_data(dot_data)  \n",
    "#Image(graph.create_png())\n",
    "\n"
   ]
  },
  {
   "cell_type": "code",
   "execution_count": 281,
   "metadata": {
    "collapsed": false
   },
   "outputs": [
    {
     "data": {
      "text/plain": [
       "0.51795977011494254"
      ]
     },
     "execution_count": 281,
     "metadata": {},
     "output_type": "execute_result"
    }
   ],
   "source": [
    "from sklearn.metrics import accuracy_score\n",
    "pred = clf.predict(features_test)\n",
    "actual = labels_test\n",
    "\n",
    "accuracy_score(actual,pred)\n"
   ]
  },
  {
   "cell_type": "code",
   "execution_count": 272,
   "metadata": {
    "collapsed": false
   },
   "outputs": [],
   "source": [
    "from sklearn.ensemble import AdaBoostClassifier\n",
    "\n",
    "rfc = AdaBoostClassifier(n_estimators = 297)\n",
    "\n",
    "clf = rfc.fit(features_train,labels_train)"
   ]
  },
  {
   "cell_type": "code",
   "execution_count": 273,
   "metadata": {
    "collapsed": false
   },
   "outputs": [
    {
     "data": {
      "text/plain": [
       "0.61997126436781613"
      ]
     },
     "execution_count": 273,
     "metadata": {},
     "output_type": "execute_result"
    }
   ],
   "source": [
    "from sklearn.metrics import accuracy_score\n",
    "pred = clf.predict(features_test)\n",
    "actual = labels_test\n",
    "\n",
    "accuracy_score(actual,pred)\n"
   ]
  },
  {
   "cell_type": "code",
   "execution_count": 325,
   "metadata": {
    "collapsed": false
   },
   "outputs": [],
   "source": [
    "#from sklearn.datasets import load_iris\n",
    "#from sklearn import tree\n",
    "#iris = load_iris()\n",
    "#clf = tree.DecisionTreeClassifier()\n",
    "#clf = clf.fit(iris.data, iris.target)#\n",
    "\n",
    "#import pydotplus \n",
    "#dot_data = tree.export_graphviz(clf) \n",
    "#graph = pydotplus.graph_from_dot_file('iris.dot') \n"
   ]
  },
  {
   "cell_type": "markdown",
   "metadata": {},
   "source": [
    "# XGBOOST !!\n"
   ]
  },
  {
   "cell_type": "code",
   "execution_count": 357,
   "metadata": {
    "collapsed": true
   },
   "outputs": [],
   "source": [
    "import os\n",
    "\n",
    "mingw_path = 'C:\\\\Program Files\\\\mingw-w64\\\\x86_64-6.3.0-posix-seh-rt_v5-rev2\\\\mingw64\\\\bin'\n",
    "\n",
    "os.environ['PATH'] = mingw_path + ';' + os.environ['PATH']"
   ]
  },
  {
   "cell_type": "code",
   "execution_count": 356,
   "metadata": {
    "collapsed": false
   },
   "outputs": [
    {
     "ename": "ImportError",
     "evalue": "No module named xgboost",
     "output_type": "error",
     "traceback": [
      "\u001b[0;31m---------------------------------------------------------------------------\u001b[0m",
      "\u001b[0;31mImportError\u001b[0m                               Traceback (most recent call last)",
      "\u001b[0;32m<ipython-input-356-745aa3a2d734>\u001b[0m in \u001b[0;36m<module>\u001b[0;34m()\u001b[0m\n\u001b[0;32m----> 1\u001b[0;31m \u001b[1;32mimport\u001b[0m \u001b[0mxgboost\u001b[0m \u001b[1;32mas\u001b[0m \u001b[0mxgb\u001b[0m\u001b[1;33m\u001b[0m\u001b[0m\n\u001b[0m",
      "\u001b[0;31mImportError\u001b[0m: No module named xgboost"
     ]
    }
   ],
   "source": [
    "import xgboost as xgb"
   ]
  },
  {
   "cell_type": "code",
   "execution_count": 358,
   "metadata": {
    "collapsed": false
   },
   "outputs": [
    {
     "data": {
      "text/plain": [
       "'C:\\\\Program Files\\\\mingw-w64\\\\x86_64-6.3.0-posix-seh-rt_v5-rev2\\\\mingw64\\\\bin;C:\\\\Program Files\\\\mingw-w64\\\\x86_64-6.3.0-posix-seh-rt_v5-rev2\\\\mingw64\\\\bin;C:\\\\Program Files\\\\mingw-w64\\\\x86_64-6.3.0-posix-seh-rt_v5-rev2\\\\mingw64\\\\bin;C:\\\\Program Files\\\\mingw-w64\\\\x86_64-5.3.0-posix-seh-rt_v4-rev0\\\\mingw64\\\\bin;C:\\\\Users\\\\unnikrishnan.s\\\\AppData\\\\Local\\\\Continuum\\\\Anaconda2\\\\Library\\\\bin;C:\\\\Users\\\\unnikrishnan.s\\\\AppData\\\\Local\\\\Continuum\\\\Anaconda2\\\\Library\\\\bin;C:\\\\Users\\\\unnikrishnan.s\\\\AppData\\\\Local\\\\Continuum\\\\Anaconda2\\\\Scripts;C:\\\\Users\\\\unnikrishnan.s\\\\AppData\\\\Local\\\\Continuum\\\\Anaconda2\\\\Library\\\\bin;C:\\\\Program Files (x86)\\\\Intel\\\\iCLS Client\\\\;C:\\\\Program Files\\\\Intel\\\\iCLS Client\\\\;C:\\\\ProgramData\\\\Oracle\\\\Java\\\\javapath;C:\\\\Windows\\\\system32;C:\\\\Windows;C:\\\\Windows\\\\System32\\\\Wbem;C:\\\\Windows\\\\System32\\\\WindowsPowerShell\\\\v1.0\\\\;C:\\\\Program Files\\\\Intel\\\\WiFi\\\\bin\\\\;C:\\\\Program Files\\\\Common Files\\\\Intel\\\\WirelessCommon\\\\;C:\\\\Program Files (x86)\\\\Java\\\\jre7\\\\bin\\\\;C:\\\\Program Files\\\\nodejs\\\\;C:\\\\Program Files\\\\Git\\\\cmd;C:\\\\Program Files (x86)\\\\PuTTY\\\\;C:\\\\Program Files\\\\Microsoft SQL Server\\\\130\\\\Tools\\\\Binn\\\\;C:\\\\Program Files\\\\Intel\\\\Intel(R) Management Engine Components\\\\DAL;C:\\\\Program Files\\\\Intel\\\\Intel(R) Management Engine Components\\\\IPT;C:\\\\Program Files (x86)\\\\Intel\\\\Intel(R) Management Engine Components\\\\DAL;C:\\\\Program Files (x86)\\\\Intel\\\\Intel(R) Management Engine Components\\\\IPT;C:\\\\Program Files (x86)\\\\Windows Kits\\\\8.1\\\\Windows Performance Toolkit\\\\;C:\\\\Users\\\\unnikrishnan.s\\\\AppData\\\\Local\\\\Continuum\\\\Anaconda2;C:\\\\Users\\\\unnikrishnan.s\\\\AppData\\\\Local\\\\Continuum\\\\Anaconda2\\\\Scripts;C:\\\\Users\\\\unnikrishnan.s\\\\AppData\\\\Local\\\\Continuum\\\\Anaconda2\\\\Library\\\\bin;C:\\\\Users\\\\unnikrishnan.s\\\\AppData\\\\Local\\\\Programs\\\\Python\\\\Python36\\\\Scripts;C:\\\\Users\\\\unnikrishnan.s\\\\AppData\\\\Local\\\\Programs\\\\Python\\\\Python36\\\\;C:\\\\Users\\\\unnikrishnan.s\\\\AppData\\\\Roaming\\\\npm;C:\\\\Program Files\\\\Heroku\\\\bin;C:\\\\Users\\\\unnikrishnan.s\\\\Documents\\\\R\\\\R-3.3.2\\\\bin;'"
      ]
     },
     "execution_count": 358,
     "metadata": {},
     "output_type": "execute_result"
    }
   ],
   "source": [
    "os.environ['PATH']"
   ]
  },
  {
   "cell_type": "code",
   "execution_count": null,
   "metadata": {
    "collapsed": true
   },
   "outputs": [],
   "source": [
    "\n",
    "from sklearn.metrics import accuracy_score\n",
    "pred = clf.predict(sub_features)\n",
    "\n",
    "pred2=[]\n",
    "for i in pred:\n",
    "    if i == 1:\n",
    "        pred2.append('Republican')\n",
    "    else:\n",
    "        pred2.append('Democrat')\n",
    "        \n",
    "#pred = np.array(pred2)\n",
    "\n",
    "submission = np.c_[sub_userid,pred2]\n",
    "np.savetxt('op.csv', submission, delimiter=\",\")\n",
    "\n",
    "\n"
   ]
  }
 ],
 "metadata": {
  "anaconda-cloud": {},
  "kernelspec": {
   "display_name": "Python [conda root]",
   "language": "python",
   "name": "conda-root-py"
  },
  "language_info": {
   "codemirror_mode": {
    "name": "ipython",
    "version": 2
   },
   "file_extension": ".py",
   "mimetype": "text/x-python",
   "name": "python",
   "nbconvert_exporter": "python",
   "pygments_lexer": "ipython2",
   "version": "2.7.12"
  }
 },
 "nbformat": 4,
 "nbformat_minor": 1
}
